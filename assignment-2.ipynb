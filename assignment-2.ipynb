{
 "cells": [
  {
   "cell_type": "code",
   "execution_count": 3,
   "id": "d738101e-9c62-4f64-a67b-d9e5b1d413de",
   "metadata": {},
   "outputs": [
    {
     "name": "stdin",
     "output_type": "stream",
     "text": [
      "enter the percentage 99\n"
     ]
    },
    {
     "name": "stdout",
     "output_type": "stream",
     "text": [
      "Grade A\n"
     ]
    }
   ],
   "source": [
    "# print grade according to percentage\n",
    "per=int(input(\"enter the percentage\"))\n",
    "if per>90:\n",
    "    print(\"Grade A\")\n",
    "elif per>80 and per<=90:\n",
    "    print(\"Grade B\")\n",
    "elif per>=60 and per<=90:\n",
    "    print(\"Grade C\")\n",
    "else:\n",
    "    print(\"Grade D\")\n"
   ]
  },
  {
   "cell_type": "code",
   "execution_count": 4,
   "id": "64dc8332-55c6-465a-831a-38d9ddf73d36",
   "metadata": {},
   "outputs": [
    {
     "name": "stdin",
     "output_type": "stream",
     "text": [
      "enter the cost price 20000\n"
     ]
    },
    {
     "name": "stdout",
     "output_type": "stream",
     "text": [
      "5%\n"
     ]
    }
   ],
   "source": [
    "#Write a program to accept the cost price of a bike and display the road tax to be paid according to criteria:\n",
    "cp=int(input(\"enter the cost price\"))\n",
    "if cp>100000:\n",
    "    print(\"15%\")\n",
    "elif cp>50000 and cp<=100000:\n",
    "    print(\"10%\")\n",
    "elif cp<=50000:\n",
    "    print(\"5%\")"
   ]
  },
  {
   "cell_type": "code",
   "execution_count": 11,
   "id": "950ae711-d39b-47c1-a5a4-d4ab19e74849",
   "metadata": {},
   "outputs": [
    {
     "name": "stdin",
     "output_type": "stream",
     "text": [
      "enter the city name delhi\n"
     ]
    },
    {
     "name": "stdout",
     "output_type": "stream",
     "text": [
      "Red Fort\n"
     ]
    }
   ],
   "source": [
    "#Accept any city from the user and display monuments of that city.\n",
    "city=str(input(\"enter the city name\"))\n",
    "if city==\"Delhi\" or city==\"delhi\":\n",
    "    print(\"Red Fort\")\n",
    "elif city==\"Agra\" or city==\"agra\":\n",
    "    print(\"Taj Mahal\")\n",
    "elif city==\"Jaipur\" or city==\"jaipur\":\n",
    "    print(\"Jal Mahal\")\n"
   ]
  },
  {
   "cell_type": "code",
   "execution_count": 15,
   "id": "4858ea5c-d3e2-4aa8-9e46-f70af1647fc6",
   "metadata": {},
   "outputs": [
    {
     "name": "stdin",
     "output_type": "stream",
     "text": [
      "enter the number 12\n"
     ]
    },
    {
     "name": "stdout",
     "output_type": "stream",
     "text": [
      "1\n"
     ]
    }
   ],
   "source": [
    "#Check how many times a given number can be divided by 3 before it is less than or equal to 10.\n",
    "n=int(input(\"enter the number\"))\n",
    "count=0\n",
    "while n>10:\n",
    "    n=n/3\n",
    "    count+=1\n",
    "print(count)"
   ]
  },
  {
   "cell_type": "code",
   "execution_count": null,
   "id": "40e95807-1e64-413e-90ce-40639eb79d85",
   "metadata": {},
   "outputs": [],
   "source": [
    "#Why and When to Use while Loop in Python give a detailed description with example\n",
    "\n",
    "Python While Loop is used to execute a block of statements repeatedly until a given condition is satisfied.\n",
    "And when the condition becomes false, the line immediately after the loop in the program is executed.\n",
    "While loop falls under the category of indefinite iteration. \n",
    "Indefinite iteration means that the number of times the loop is executed isn’t specified explicitly in advance. \n",
    "\n",
    "Statements represent all the statements indented by the same number of character spaces after a programming\n",
    "construct are considered to be part of a single block of code.\n",
    "Python uses indentation as its method of grouping statements.\n",
    "When a while loop is executed, expr is first evaluated in a Boolean context and if it is true, the loop body is executed.\n",
    "Then the expr is checked again, if it is still true then the body is executed again and this continues until\n",
    "the expression becomes false.\n",
    "\n",
    "\n",
    "example--\n",
    "#program to display numbers from 1 to 5\n",
    "# initialize the variable\n",
    "i = 1\n",
    "n = 5\n",
    "# while loop from i = 1 to 5\n",
    "while i <= n:\n",
    "    print(i)\n",
    "    i = i + 1"
   ]
  },
  {
   "cell_type": "code",
   "execution_count": 12,
   "id": "506cee75-5abd-453a-864f-4cdaa8adccb5",
   "metadata": {},
   "outputs": [
    {
     "name": "stdout",
     "output_type": "stream",
     "text": [
      "1st\n",
      "\n"
     ]
    },
    {
     "name": "stdin",
     "output_type": "stream",
     "text": [
      "Enter number of rows :  4\n"
     ]
    },
    {
     "name": "stdout",
     "output_type": "stream",
     "text": [
      "* \n",
      "* * \n",
      "* * * \n",
      "* * * * \n",
      "\n",
      "2nd\n",
      "\n",
      "* * * * \n",
      "* * * \n",
      "* * \n",
      "* \n",
      "\n",
      "3rd\n",
      "\n",
      "      * \n",
      "    * * \n",
      "  * * * \n",
      "* * * * \n",
      "  * * * \n",
      "    * * \n",
      "      * \n",
      "        \n"
     ]
    }
   ],
   "source": [
    "#Use nested while loop to print 3 different pattern.\n",
    "#question5\n",
    "print(\"1st\\n\")\n",
    "n = int(input('Enter number of rows : '))\n",
    " \n",
    "i = 1\n",
    "while i <= n :\n",
    "    j = 1\n",
    "    while j <= i:\n",
    "        print(\"*\", end = \" \")\n",
    "        j += 1\n",
    "    print()\n",
    "    i += 1\n",
    "    \n",
    "    \n",
    "print('\\n2nd\\n')\n",
    "#n = int(input('Enter number of rows : '))\n",
    " \n",
    "i = 1\n",
    "while i <= n :\n",
    "    j = n\n",
    "    while j >= i:\n",
    "        print(\"*\", end = \" \")\n",
    "        j -= 1\n",
    "    print()\n",
    "    i += 1\n",
    "\n",
    "print('\\n3rd\\n')\n",
    "\n",
    "i = 1\n",
    "while i <= n:\n",
    "    j = i\n",
    "    while j < n:\n",
    "        # display space\n",
    "        print(' ', end=' ')\n",
    "        j += 1\n",
    "    k = 1\n",
    "    while k <= i:\n",
    "        print('*', end=' ')\n",
    "        k += 1\n",
    "    print()\n",
    "    i += 1\n",
    "\n",
    "i = n\n",
    "while i >= 1:\n",
    "    j = i\n",
    "    while j <= n:\n",
    "        print(' ', end=' ')\n",
    "        j += 1\n",
    "    k = 1\n",
    "    while k < i:\n",
    "        print('*', end=' ')\n",
    "        k += 1\n",
    "    print('')\n",
    "    i -= 1"
   ]
  },
  {
   "cell_type": "code",
   "execution_count": 16,
   "id": "d29572d1-c739-4223-8566-c60a29bb5c10",
   "metadata": {},
   "outputs": [
    {
     "name": "stdout",
     "output_type": "stream",
     "text": [
      "10\n",
      "9\n",
      "8\n",
      "7\n",
      "6\n",
      "5\n",
      "4\n",
      "3\n",
      "2\n",
      "1\n"
     ]
    }
   ],
   "source": [
    "#7. Reverse a while loop to display numbers from 10 to 1.\n",
    "num=10\n",
    "while num>0:\n",
    "    print(num)\n",
    "    num-=1"
   ]
  },
  {
   "cell_type": "code",
   "execution_count": null,
   "id": "de8f8c74-17e9-44c6-96ca-c9c4d9572554",
   "metadata": {},
   "outputs": [],
   "source": []
  }
 ],
 "metadata": {
  "kernelspec": {
   "display_name": "Python 3 (ipykernel)",
   "language": "python",
   "name": "python3"
  },
  "language_info": {
   "codemirror_mode": {
    "name": "ipython",
    "version": 3
   },
   "file_extension": ".py",
   "mimetype": "text/x-python",
   "name": "python",
   "nbconvert_exporter": "python",
   "pygments_lexer": "ipython3",
   "version": "3.10.8"
  }
 },
 "nbformat": 4,
 "nbformat_minor": 5
}
